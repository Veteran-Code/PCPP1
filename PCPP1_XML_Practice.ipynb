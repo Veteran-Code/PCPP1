{
 "cells": [
  {
   "cell_type": "markdown",
   "id": "f49f8ed3",
   "metadata": {},
   "source": [
    "# Working With The XML Format"
   ]
  },
  {
   "cell_type": "code",
   "execution_count": 1,
   "id": "35472734",
   "metadata": {},
   "outputs": [
    {
     "name": "stdout",
     "output_type": "stream",
     "text": [
      "Defaulting to user installation because normal site-packages is not writeable\n",
      "Requirement already satisfied: CyberHerder==1.0.7 in /home/optimus/.local/lib/python3.10/site-packages (1.0.7)\n",
      "Requirement already satisfied: Penguin-Services in /home/optimus/.local/lib/python3.10/site-packages (from CyberHerder==1.0.7) (2.0.0)\n",
      "Requirement already satisfied: dataclasses in /home/optimus/.local/lib/python3.10/site-packages (from Penguin-Services->CyberHerder==1.0.7) (0.6)\n"
     ]
    }
   ],
   "source": [
    "!pip install CyberHerder==1.0.7"
   ]
  },
  {
   "cell_type": "code",
   "execution_count": 2,
   "id": "e83b25c1",
   "metadata": {},
   "outputs": [
    {
     "data": {
      "text/plain": [
       "True"
      ]
     },
     "execution_count": 2,
     "metadata": {},
     "output_type": "execute_result"
    }
   ],
   "source": [
    "from CyberHerder import dataBreach\n",
    "\n",
    "dataBreach(amount = 1000)"
   ]
  },
  {
   "cell_type": "code",
   "execution_count": 5,
   "id": "640c1d03",
   "metadata": {},
   "outputs": [],
   "source": [
    "import os\n",
    "import copy\n",
    "import xml.etree.ElementTree as ET\n",
    "\n",
    "user_home_environment = os.path.expanduser('~') + '/'\n",
    "breached_data = user_home_environment + 'BreachedData/'"
   ]
  },
  {
   "cell_type": "code",
   "execution_count": 6,
   "id": "ecde29eb",
   "metadata": {},
   "outputs": [
    {
     "name": "stdout",
     "output_type": "stream",
     "text": [
      "creditCards.xml\r\n",
      "devices.xml\r\n",
      "people.xml\r\n"
     ]
    }
   ],
   "source": [
    "!ls $breached_data | grep .*xml"
   ]
  },
  {
   "cell_type": "markdown",
   "id": "2bb3dc5f",
   "metadata": {},
   "source": [
    "## Credit Cards"
   ]
  },
  {
   "cell_type": "code",
   "execution_count": 40,
   "id": "e5cf54ab",
   "metadata": {},
   "outputs": [
    {
     "name": "stdout",
     "output_type": "stream",
     "text": [
      "The root tag is: Credit_Information\n",
      "The root has the following children\n",
      "\n",
      "Personally_Identifiable_Information\n",
      "Name: CONWAY\n",
      "Credit Card: 2239357568782955\n",
      "Pin Number: 165711\n",
      "\n",
      "Personally_Identifiable_Information\n",
      "Name: WILEY\n",
      "Credit Card: 3948383992138991\n",
      "Pin Number: 169419\n",
      "\n",
      "Personally_Identifiable_Information\n",
      "Name: LEACH\n",
      "Credit Card: 9407358302862132\n",
      "Pin Number: 844309\n",
      "\n"
     ]
    }
   ],
   "source": [
    "tree = ET.parse(f'{breached_data}creditCards.xml')\n",
    "root = tree.getroot()\n",
    "\n",
    "print(f'The root tag is: {root.tag}')\n",
    "print(\"The root has the following children\")\n",
    "print()\n",
    "\n",
    "credit_card_dataset = []\n",
    "\n",
    "count = 0\n",
    "for child in root:\n",
    "    if count < 3:\n",
    "        print(child.tag)    \n",
    "        print(f'Name: {child.attrib[\"Name\"]}')\n",
    "        print(f'Credit Card: {child.attrib[\"Credit_Card_Information\"]}')\n",
    "        print(f'Pin Number: {child.attrib[\"Pin_Number\"]}')\n",
    "        print()\n",
    "        count += 1\n",
    "    credit_card_dataset.append(list(child.attrib.values()))"
   ]
  },
  {
   "cell_type": "markdown",
   "id": "a720c07a",
   "metadata": {},
   "source": [
    "## Person Data"
   ]
  },
  {
   "cell_type": "code",
   "execution_count": 41,
   "id": "87db8b03",
   "metadata": {},
   "outputs": [
    {
     "name": "stdout",
     "output_type": "stream",
     "text": [
      "The root tag is: People\n",
      "The root has the following children\n",
      "\n"
     ]
    }
   ],
   "source": [
    "tree = ET.parse(f'{breached_data}people.xml')\n",
    "root = tree.getroot()\n",
    "\n",
    "print(f'The root tag is: {root.tag}')\n",
    "print(\"The root has the following children\")\n",
    "print()\n",
    "\n",
    "people_dataset = []\n",
    "\n",
    "count = 0\n",
    "for child in root:\n",
    "    if count == 3:\n",
    "        print(child.tag)\n",
    "\n",
    "        print(f'Username: {child.attrib[\"Username\"]}')\n",
    "        print(f'Company: {child.attrib[\"Company\"]}')\n",
    "        print(f'Phone Number: {child.attrib[\"Phone_Number\"]}')\n",
    "        print(f'UID: {child.attrib[\"UID\"]}')\n",
    "        print(f'Zip Code: {child.attrib[\"Zip_Code\"]}')\n",
    "        print(f'Email: {child.attrib[\"Email\"]}')\n",
    "        print()\n",
    "        count += 1\n",
    "        \n",
    "    people_dataset.append(list(child.attrib.values()))"
   ]
  },
  {
   "cell_type": "markdown",
   "id": "47cce2c4",
   "metadata": {},
   "source": [
    "## CSV Module Insight\n",
    "- Tie the employee dataset together: Credit_Information and People datasets"
   ]
  },
  {
   "cell_type": "code",
   "execution_count": 43,
   "id": "aecf350d",
   "metadata": {},
   "outputs": [
    {
     "name": "stdout",
     "output_type": "stream",
     "text": [
      "[['CONWAY', '2239357568782955', '165711'], ['WILEY', '3948383992138991', '169419']]\n",
      "[['CONWAY', 'Cybersploit', '1179720068', 'czuyAmVWrM', '713054', 'ROTH@cybersploit.edu'], ['WILEY', 'Liberty-Crypto', '7505337916', 'qIs7EW4l1K', '821335', 'HATFIELD@cybersploit.org']]\n",
      "1000\n"
     ]
    }
   ],
   "source": [
    "print(credit_card_dataset[:2])\n",
    "print(people_dataset[:2])\n",
    "\n",
    "print(len(credit_card_dataset))"
   ]
  },
  {
   "cell_type": "code",
   "execution_count": 51,
   "id": "997bd1ec",
   "metadata": {},
   "outputs": [],
   "source": [
    "employee_dataset = {\"headers\": [\"Company\", \"Phone_Number\", \"UID\", \"Zip_Code\", \"Email\",\"Credit_Card_Information\", \"Pin_Number\"]}\n",
    "\n",
    "if len(credit_card_dataset) != len(people_dataset):\n",
    "    raise Exception(\"Datasets must be equal to merge!\")\n",
    "    \n",
    "idx = 0\n",
    "\n",
    "while idx < len(credit_card_dataset):\n",
    "    person = people_dataset[idx]\n",
    "    credit_information = credit_card_dataset[idx]\n",
    "    \n",
    "    if person[0] != credit_information[0]:\n",
    "        raise Exception(f'At index {idx}, the two datasets do not map')\n",
    "    else:\n",
    "        employee_dataset[person[0]] = copy.deepcopy(person[1:])\n",
    "        employee_dataset[person[0]].extend(copy.deepcopy(credit_information[1:]))\n",
    "    \n",
    "    idx += 1"
   ]
  },
  {
   "cell_type": "code",
   "execution_count": 53,
   "id": "8ef164e8",
   "metadata": {},
   "outputs": [
    {
     "name": "stdout",
     "output_type": "stream",
     "text": [
      "Merged headers: ['Company', 'Phone_Number', 'UID', 'Zip_Code', 'Email', 'Credit_Card_Information', 'Pin_Number']\n"
     ]
    }
   ],
   "source": [
    "print(f'Merged headers: {employee_dataset[\"headers\"]}')"
   ]
  },
  {
   "cell_type": "code",
   "execution_count": 52,
   "id": "4ed81925",
   "metadata": {},
   "outputs": [
    {
     "name": "stdout",
     "output_type": "stream",
     "text": [
      "First five rows of the employee dataset. Order may change across instances!\n",
      "Name: CONWAY\n",
      "Data: ['Cybersploit', '1179720068', 'czuyAmVWrM', '713054', 'ROTH@cybersploit.edu', '2239357568782955', '165711']\n",
      "Name: WILEY\n",
      "Data: ['Liberty-Crypto', '5961983311', 'lVIxsiutdy', '271410', 'MCCALL@cybersploit.org', '2768547065573344', '248547']\n",
      "Name: LEACH\n",
      "Data: ['Liberty-Crypto', '8677257927', 'rY4MA5VBwL', '411361', 'FULLER@libertycrypto.edu', '9836726830716642', '044560']\n",
      "Name: SHARP\n",
      "Data: ['Sigcryptal', '9566401280', 'p3TLfwduxQ', '759274', 'HYDE@sigcryptal.edu', '9549887639360851', '777027']\n",
      "Name: SCHMIDT\n",
      "Data: ['Cybersploit', '6845813820', 'mCl83jkUWe', '265700', 'COOPER@sigcryptal.com', '0925563288112714', '439982']\n"
     ]
    }
   ],
   "source": [
    "print('First five rows of the employee dataset. Order may change across instances!')\n",
    "\n",
    "count = 0\n",
    "\n",
    "for key, val in employee_dataset.items():\n",
    "    if key != 'headers':\n",
    "        print(f'Name: {key}')\n",
    "        print(f'Data: {val}')\n",
    "        count += 1\n",
    "        \n",
    "    if count == 5:\n",
    "        break"
   ]
  }
 ],
 "metadata": {
  "kernelspec": {
   "display_name": "Python 3 (ipykernel)",
   "language": "python",
   "name": "python3"
  },
  "language_info": {
   "codemirror_mode": {
    "name": "ipython",
    "version": 3
   },
   "file_extension": ".py",
   "mimetype": "text/x-python",
   "name": "python",
   "nbconvert_exporter": "python",
   "pygments_lexer": "ipython3",
   "version": "3.10.6"
  }
 },
 "nbformat": 4,
 "nbformat_minor": 5
}
